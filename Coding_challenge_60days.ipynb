{
 "cells": [
  {
   "cell_type": "markdown",
   "id": "aba4804b",
   "metadata": {},
   "source": [
    "Problem #1: Best Time to Buy and Sell Stock\n",
    "You are given an array prices where prices[i] is the price of a given stock on the ith day.\n",
    "\n",
    "You want to maximize your profit by choosing a single day to buy one stock and choosing a different day in the future to sell that stock.\n",
    "\n",
    "Return the maximum profit you can achieve from this transaction. If you cannot achieve any profit, return 0."
   ]
  },
  {
   "cell_type": "markdown",
   "id": "6a7509a2",
   "metadata": {},
   "source": [
    "Example 1:\n",
    "\n",
    "Input: prices = [7,1,5,3,6,4]\n",
    "\n",
    "Output: 5\n",
    "\n",
    "Explanation: Buy on day 2 (price = 1) and sell on day 5 (price = 6), profit = 6-1 = 5.\n",
    "\n",
    "Note that buying on day 2 and selling on day 1 is not allowed because you must buy before you sell.\n",
    "\n",
    "Example 2:\n",
    "\n",
    "Input: prices = [7,6,4,3,1]\n",
    "\n",
    "Output: 0\n",
    "\n",
    "Explanation: In this case, no transactions are done and the max profit = 0.\n",
    "\n",
    " \n",
    "\n",
    "Constraints:\n",
    "\n",
    "1 <= prices.length <= 105\n",
    "0 <= prices[i] <= 104\n"
   ]
  },
  {
   "cell_type": "code",
   "execution_count": 9,
   "id": "11ad9261",
   "metadata": {},
   "outputs": [],
   "source": [
    "def profitFunct(prices):\n",
    "    minPrice = max(prices)\n",
    "    maxProfit = 0\n",
    "    \n",
    "    for currentPrice in prices:\n",
    "        \n",
    "        if currentPrice < minPrice:\n",
    "            minPrice = currentPrice\n",
    "        \n",
    "        if currentPrice - minPrice > maxProfit:\n",
    "            maxProfit = currentPrice - minPrice\n",
    "        \n",
    "    return maxProfit\n",
    "    \n",
    "\n",
    "    "
   ]
  },
  {
   "cell_type": "code",
   "execution_count": 10,
   "id": "37ba5d1a",
   "metadata": {},
   "outputs": [
    {
     "name": "stdout",
     "output_type": "stream",
     "text": [
      "99\n"
     ]
    }
   ],
   "source": [
    "prices = [1,5,7,9,12,5,16,100]\n",
    "\n",
    "print(profitFunct(prices))"
   ]
  },
  {
   "cell_type": "code",
   "execution_count": null,
   "id": "fadd19b1",
   "metadata": {},
   "outputs": [],
   "source": []
  }
 ],
 "metadata": {
  "kernelspec": {
   "display_name": "Python 3 (ipykernel)",
   "language": "python",
   "name": "python3"
  },
  "language_info": {
   "codemirror_mode": {
    "name": "ipython",
    "version": 3
   },
   "file_extension": ".py",
   "mimetype": "text/x-python",
   "name": "python",
   "nbconvert_exporter": "python",
   "pygments_lexer": "ipython3",
   "version": "3.10.9"
  }
 },
 "nbformat": 4,
 "nbformat_minor": 5
}
